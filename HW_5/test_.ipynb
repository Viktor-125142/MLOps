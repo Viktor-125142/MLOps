{
 "cells": [
  {
   "cell_type": "markdown",
   "source": [
    "# ДЗ по №-5 по MLOps"
   ],
   "metadata": {
    "collapsed": false
   },
   "id": "dd09cc0c0f29b982"
  },
  {
   "cell_type": "markdown",
   "source": [
    "## Цель задания"
   ],
   "metadata": {
    "collapsed": false
   },
   "id": "969cab69cf02a513"
  },
  {
   "cell_type": "markdown",
   "source": [
    "Применить средства автоматизации тестирования python для автоматического тестирования качества работы модели машинного обучения на различных датасетах."
   ],
   "metadata": {
    "collapsed": false
   },
   "id": "e9943cd2b4c970cc"
  },
  {
   "cell_type": "markdown",
   "source": [
    "## Содержание задания"
   ],
   "metadata": {
    "collapsed": false
   },
   "id": "f2f26d9cff09fe11"
  },
  {
   "cell_type": "markdown",
   "source": [
    "Создать три датасета с «качественными данными», на которых можно обучить простую модель линейной регрессии, например:\n",
    "На одном из этих датасетов обучить модель линейной регрессии.\n",
    "Создать датасет с шумом в данных\n",
    "Провести тестирование работы модели на разных датасетах с использованием Pytest, анализируя качество предсказания, обнаружить проблему на датасете с шумами."
   ],
   "metadata": {
    "collapsed": false
   },
   "id": "49826f4f0ae4a5cb"
  },
  {
   "cell_type": "markdown",
   "source": [
    "## Установка библиотек"
   ],
   "metadata": {
    "collapsed": false
   },
   "id": "13c9603fe3fc3e6e"
  },
  {
   "cell_type": "code",
   "execution_count": 2,
   "id": "initial_id",
   "metadata": {
    "collapsed": true,
    "ExecuteTime": {
     "end_time": "2024-05-07T13:23:22.653134Z",
     "start_time": "2024-05-07T13:23:10.891823Z"
    }
   },
   "outputs": [
    {
     "name": "stdout",
     "output_type": "stream",
     "text": [
      "Requirement already satisfied: ipytest in /Users/viktorilin/PycharmProjects/MLOps/env/lib/python3.12/site-packages (0.14.2)\r\n",
      "Requirement already satisfied: ipython in /Users/viktorilin/PycharmProjects/MLOps/env/lib/python3.12/site-packages (from ipytest) (8.24.0)\r\n",
      "Requirement already satisfied: packaging in /Users/viktorilin/PycharmProjects/MLOps/env/lib/python3.12/site-packages (from ipytest) (24.0)\r\n",
      "Requirement already satisfied: pytest>=5.4 in /Users/viktorilin/PycharmProjects/MLOps/env/lib/python3.12/site-packages (from ipytest) (8.2.0)\r\n",
      "Requirement already satisfied: iniconfig in /Users/viktorilin/PycharmProjects/MLOps/env/lib/python3.12/site-packages (from pytest>=5.4->ipytest) (2.0.0)\r\n",
      "Requirement already satisfied: pluggy<2.0,>=1.5 in /Users/viktorilin/PycharmProjects/MLOps/env/lib/python3.12/site-packages (from pytest>=5.4->ipytest) (1.5.0)\r\n",
      "Requirement already satisfied: decorator in /Users/viktorilin/PycharmProjects/MLOps/env/lib/python3.12/site-packages (from ipython->ipytest) (5.1.1)\r\n",
      "Requirement already satisfied: jedi>=0.16 in /Users/viktorilin/PycharmProjects/MLOps/env/lib/python3.12/site-packages (from ipython->ipytest) (0.19.1)\r\n",
      "Requirement already satisfied: matplotlib-inline in /Users/viktorilin/PycharmProjects/MLOps/env/lib/python3.12/site-packages (from ipython->ipytest) (0.1.7)\r\n",
      "Requirement already satisfied: prompt-toolkit<3.1.0,>=3.0.41 in /Users/viktorilin/PycharmProjects/MLOps/env/lib/python3.12/site-packages (from ipython->ipytest) (3.0.43)\r\n",
      "Requirement already satisfied: pygments>=2.4.0 in /Users/viktorilin/PycharmProjects/MLOps/env/lib/python3.12/site-packages (from ipython->ipytest) (2.17.2)\r\n",
      "Requirement already satisfied: stack-data in /Users/viktorilin/PycharmProjects/MLOps/env/lib/python3.12/site-packages (from ipython->ipytest) (0.6.3)\r\n",
      "Requirement already satisfied: traitlets>=5.13.0 in /Users/viktorilin/PycharmProjects/MLOps/env/lib/python3.12/site-packages (from ipython->ipytest) (5.14.3)\r\n",
      "Requirement already satisfied: pexpect>4.3 in /Users/viktorilin/PycharmProjects/MLOps/env/lib/python3.12/site-packages (from ipython->ipytest) (4.9.0)\r\n",
      "Requirement already satisfied: parso<0.9.0,>=0.8.3 in /Users/viktorilin/PycharmProjects/MLOps/env/lib/python3.12/site-packages (from jedi>=0.16->ipython->ipytest) (0.8.4)\r\n",
      "Requirement already satisfied: ptyprocess>=0.5 in /Users/viktorilin/PycharmProjects/MLOps/env/lib/python3.12/site-packages (from pexpect>4.3->ipython->ipytest) (0.7.0)\r\n",
      "Requirement already satisfied: wcwidth in /Users/viktorilin/PycharmProjects/MLOps/env/lib/python3.12/site-packages (from prompt-toolkit<3.1.0,>=3.0.41->ipython->ipytest) (0.2.13)\r\n",
      "Requirement already satisfied: executing>=1.2.0 in /Users/viktorilin/PycharmProjects/MLOps/env/lib/python3.12/site-packages (from stack-data->ipython->ipytest) (2.0.1)\r\n",
      "Requirement already satisfied: asttokens>=2.1.0 in /Users/viktorilin/PycharmProjects/MLOps/env/lib/python3.12/site-packages (from stack-data->ipython->ipytest) (2.4.1)\r\n",
      "Requirement already satisfied: pure-eval in /Users/viktorilin/PycharmProjects/MLOps/env/lib/python3.12/site-packages (from stack-data->ipython->ipytest) (0.2.2)\r\n",
      "Requirement already satisfied: six>=1.12.0 in /Users/viktorilin/PycharmProjects/MLOps/env/lib/python3.12/site-packages (from asttokens>=2.1.0->stack-data->ipython->ipytest) (1.16.0)\r\n"
     ]
    }
   ],
   "source": [
    "!pip install ipytest"
   ]
  },
  {
   "cell_type": "code",
   "execution_count": 3,
   "outputs": [],
   "source": [
    "import numpy as np\n",
    "import pandas as pd\n",
    "from sklearn.model_selection import train_test_split\n",
    "from sklearn.linear_model import LinearRegression\n",
    "from sklearn.metrics import mean_squared_error\n",
    "import ipytest"
   ],
   "metadata": {
    "collapsed": false,
    "ExecuteTime": {
     "end_time": "2024-05-07T13:23:26.847232Z",
     "start_time": "2024-05-07T13:23:22.649632Z"
    }
   },
   "id": "1143151c621e1f1"
  },
  {
   "cell_type": "markdown",
   "source": [
    "### Создание исходного датасета"
   ],
   "metadata": {
    "collapsed": false
   },
   "id": "b3b6e631c5403c2f"
  },
  {
   "cell_type": "code",
   "execution_count": 4,
   "outputs": [
    {
     "name": "stdout",
     "output_type": "stream",
     "text": [
      "   Feature_1  Feature_2  Feature_3  Feature_4  Feature_5  Feature_6    Target\n",
      "0   0.374540   0.031429   0.642032   0.051682   0.103124   0.698162  1.689351\n",
      "1   0.950714   0.636410   0.084140   0.531355   0.902553   0.536096  2.785903\n",
      "2   0.731994   0.314356   0.161629   0.540635   0.505252   0.309528  1.770105\n",
      "3   0.598658   0.508571   0.898554   0.637430   0.826457   0.813795  0.887025\n",
      "4   0.156019   0.907566   0.606429   0.726091   0.320050   0.684731  1.206359\n"
     ]
    }
   ],
   "source": [
    "# Установка параметров\n",
    "np.random.seed(42)  # для воспроизводимости результатов\n",
    "num_samples = 100  # количество примеров\n",
    "\n",
    "# Генерация случайных признаков\n",
    "data = {\n",
    "    'Feature_1': np.random.rand(num_samples),\n",
    "    'Feature_2': np.random.rand(num_samples),\n",
    "    'Feature_3': np.random.rand(num_samples),\n",
    "    'Feature_4': np.random.rand(num_samples),\n",
    "    'Feature_5': np.random.rand(num_samples),\n",
    "    'Feature_6': np.random.rand(num_samples),\n",
    "    'Target': np.random.rand(num_samples) * 10  # Целевая переменная, например, цены\n",
    "}\n",
    "\n",
    "# Создание DataFrame\n",
    "df = pd.DataFrame(data)\n",
    "\n",
    "# Показать первые несколько строк DataFrame\n",
    "print(df.head())"
   ],
   "metadata": {
    "collapsed": false,
    "ExecuteTime": {
     "end_time": "2024-05-07T13:23:26.970886Z",
     "start_time": "2024-05-07T13:23:26.852644Z"
    }
   },
   "id": "e5b6f7aace5deb75"
  },
  {
   "cell_type": "markdown",
   "source": [
    "### Обучение модели линейной регрессии"
   ],
   "metadata": {
    "collapsed": false
   },
   "id": "1b30da74e2af6edd"
  },
  {
   "cell_type": "code",
   "execution_count": 5,
   "outputs": [
    {
     "name": "stdout",
     "output_type": "stream",
     "text": [
      "MSE on Test Data: 7.822410653876711\n"
     ]
    }
   ],
   "source": [
    "# Разделение данных на обучающую и тестовую выборку\n",
    "X = df.drop('Target', axis=1)\n",
    "y = df['Target']\n",
    "X_train, X_test, y_train, y_test = train_test_split(X, y, test_size=0.2, random_state=42)\n",
    "\n",
    "# Обучение модели линейной регрессии\n",
    "model = LinearRegression()\n",
    "model.fit(X_train, y_train)\n",
    "\n",
    "# Оценка модели на тестовой выборке\n",
    "predictions = model.predict(X_test)\n",
    "mse = mean_squared_error(y_test, predictions)\n",
    "print(\"MSE on Test Data:\", mse)"
   ],
   "metadata": {
    "collapsed": false,
    "ExecuteTime": {
     "end_time": "2024-05-07T13:23:26.973644Z",
     "start_time": "2024-05-07T13:23:26.895798Z"
    }
   },
   "id": "53590a56963e17bd"
  },
  {
   "cell_type": "markdown",
   "source": [
    "### Создание датасета с шумом"
   ],
   "metadata": {
    "collapsed": false
   },
   "id": "eeedfc28b802d8b0"
  },
  {
   "cell_type": "code",
   "execution_count": 6,
   "outputs": [
    {
     "name": "stdout",
     "output_type": "stream",
     "text": [
      "DataFrame with noisy features:\n",
      "   Feature_1  Feature_2  Feature_3  Feature_4  Feature_5  Feature_6    Target\n",
      "0   0.309357   0.036169   0.555990   0.013226   0.203753   0.640473  1.689351\n",
      "1   1.034284   0.523440   0.137120   0.675511   0.655388   0.456407  2.785903\n",
      "2   0.789701   0.294051   0.198743   0.480237   0.513911   0.293960  1.770105\n",
      "3   0.715437   0.534013   0.932314   0.596242   0.777697   0.770539  0.887025\n",
      "4   0.195464   0.865468   0.635407   0.933631   0.407162   0.652129  1.206359\n"
     ]
    }
   ],
   "source": [
    "# Генерация шума для признаков\n",
    "noise_level = 0.1  # Уровень шума\n",
    "feature_noise = np.random.randn(num_samples, 6) * noise_level\n",
    "\n",
    "# Добавление шума к данным\n",
    "noisy_features_data = data.copy()\n",
    "for i in range(1, 7):\n",
    "    noisy_features_data[f'Feature_{i}'] += feature_noise[:, i-1]\n",
    "\n",
    "# Создание DataFrame с шумными признаками\n",
    "df_noisy_features = pd.DataFrame(noisy_features_data)\n",
    "print(\"DataFrame with noisy features:\")\n",
    "print(df_noisy_features.head())\n"
   ],
   "metadata": {
    "collapsed": false,
    "ExecuteTime": {
     "end_time": "2024-05-07T13:23:27.035723Z",
     "start_time": "2024-05-07T13:23:26.945902Z"
    }
   },
   "id": "5c9c2e2a0869afeb"
  },
  {
   "cell_type": "code",
   "execution_count": 7,
   "outputs": [
    {
     "name": "stdout",
     "output_type": "stream",
     "text": [
      "DataFrame with noisy target:\n",
      "   Feature_1  Feature_2  Feature_3  Feature_4  Feature_5  Feature_6    Target\n",
      "0   0.309357   0.036169   0.555990   0.013226   0.203753   0.640473  1.445194\n",
      "1   1.034284   0.523440   0.137120   0.675511   0.655388   0.456407  3.749991\n",
      "2   0.789701   0.294051   0.198743   0.480237   0.513911   0.293960  2.959575\n",
      "3   0.715437   0.534013   0.932314   0.596242   0.777697   0.770539 -0.340582\n",
      "4   0.195464   0.865468   0.635407   0.933631   0.407162   0.652129  1.803759\n"
     ]
    }
   ],
   "source": [
    "# Генерация шума для целевой переменной\n",
    "target_noise = np.random.randn(num_samples) * noise_level * 10  # Больший шум для целевой переменной\n",
    "\n",
    "# Добавление шума к целевой переменной\n",
    "noisy_target_data = data.copy()\n",
    "noisy_target_data['Target'] += target_noise\n",
    "\n",
    "# Создание DataFrame с шумной целевой переменной\n",
    "df_noisy_target = pd.DataFrame(noisy_target_data)\n",
    "print(\"DataFrame with noisy target:\")\n",
    "print(df_noisy_target.head())\n"
   ],
   "metadata": {
    "collapsed": false,
    "ExecuteTime": {
     "end_time": "2024-05-07T13:23:27.263454Z",
     "start_time": "2024-05-07T13:23:26.983529Z"
    }
   },
   "id": "832b57b85f4473e"
  },
  {
   "cell_type": "markdown",
   "source": [
    "### Написание тестов с использованием pytest"
   ],
   "metadata": {
    "collapsed": false
   },
   "id": "964428a8c4be2185"
  },
  {
   "cell_type": "code",
   "execution_count": 10,
   "outputs": [
    {
     "name": "stdout",
     "output_type": "stream",
     "text": [
      "\u001B[1m======================================= test session starts ========================================\u001B[0m\n",
      "platform darwin -- Python 3.12.0, pytest-8.2.0, pluggy-1.5.0\n",
      "rootdir: /Users/viktorilin/PycharmProjects/MLOps/HW_5\n",
      "plugins: anyio-4.3.0, time-machine-2.14.1, hydra-core-1.3.2\n",
      "collected 2 items\n",
      "\n",
      "t_c760677d98f14a4a998866160db5289d.py \u001B[32m.\u001B[0m\u001B[31mF\u001B[0m\u001B[31m                                                     [100%]\u001B[0m\n",
      "\n",
      "============================================= FAILURES =============================================\n",
      "\u001B[31m\u001B[1m____________________________________ test_model_on_noisy_target ____________________________________\u001B[0m\n",
      "\n",
      "    \u001B[0m\u001B[94mdef\u001B[39;49;00m \u001B[92mtest_model_on_noisy_target\u001B[39;49;00m():\u001B[90m\u001B[39;49;00m\n",
      "        X_noisy_target = df_noisy_target.drop(\u001B[33m'\u001B[39;49;00m\u001B[33mTarget\u001B[39;49;00m\u001B[33m'\u001B[39;49;00m, axis=\u001B[94m1\u001B[39;49;00m)\u001B[90m\u001B[39;49;00m\n",
      "        y_noisy_target = df_noisy_target[\u001B[33m'\u001B[39;49;00m\u001B[33mTarget\u001B[39;49;00m\u001B[33m'\u001B[39;49;00m]\u001B[90m\u001B[39;49;00m\n",
      "        _, X_test_noisy_target, _, y_test_noisy_target = train_test_split(X_noisy_target, y_noisy_target, test_size=\u001B[94m0.2\u001B[39;49;00m, random_state=\u001B[94m42\u001B[39;49;00m)\u001B[90m\u001B[39;49;00m\n",
      "        predictions = model.predict(X_test_noisy_target)\u001B[90m\u001B[39;49;00m\n",
      "        mse = mean_squared_error(y_test_noisy_target, predictions)\u001B[90m\u001B[39;49;00m\n",
      "        \u001B[96mprint\u001B[39;49;00m(\u001B[33m\"\u001B[39;49;00m\u001B[33mMSE on Noisy Target Data:\u001B[39;49;00m\u001B[33m\"\u001B[39;49;00m, mse)\u001B[90m\u001B[39;49;00m\n",
      ">       \u001B[94massert\u001B[39;49;00m mse < \u001B[94m5\u001B[39;49;00m \u001B[90m# тут что тест провален\u001B[39;49;00m\u001B[90m\u001B[39;49;00m\n",
      "\u001B[1m\u001B[31mE       assert 9.953891998916905 < 5\u001B[0m\n",
      "\n",
      "\u001B[1m\u001B[31m/var/folders/y7/m25cmt1n11b3l005tzcxwbrm0000gn/T/ipykernel_70451/2770786821.py\u001B[0m:20: AssertionError\n",
      "--------------------------------------- Captured stdout call ---------------------------------------\n",
      "MSE on Noisy Target Data: 9.953891998916905\n",
      "\u001B[36m\u001B[1m===================================== short test summary info ======================================\u001B[0m\n",
      "\u001B[31mFAILED\u001B[0m t_c760677d98f14a4a998866160db5289d.py::\u001B[1mtest_model_on_noisy_target\u001B[0m - assert 9.953891998916905 < 5\n",
      "\u001B[31m=================================== \u001B[31m\u001B[1m1 failed\u001B[0m, \u001B[32m1 passed\u001B[0m\u001B[31m in 0.05s\u001B[0m\u001B[31m ====================================\u001B[0m\n"
     ]
    },
    {
     "data": {
      "text/plain": "<ExitCode.TESTS_FAILED: 1>"
     },
     "execution_count": 10,
     "metadata": {},
     "output_type": "execute_result"
    }
   ],
   "source": [
    "ipytest.autoconfig()\n",
    "\n",
    "def test_model_on_noisy_features():\n",
    "    X_noisy_features = df_noisy_features.drop('Target', axis=1)\n",
    "    y_noisy_features = df_noisy_features['Target']\n",
    "    _, X_test_noisy_features, _, y_test_noisy_features = train_test_split(X_noisy_features, y_noisy_features, test_size=0.2, random_state=42)\n",
    "    predictions = model.predict(X_test_noisy_features)\n",
    "    mse = mean_squared_error(y_test_noisy_features, predictions)\n",
    "    print(\"MSE on Noisy Features Data:\", mse)\n",
    "    assert mse > 5 # тут проверяю, что тест проходит\n",
    "\n",
    "def test_model_on_noisy_target():\n",
    "    X_noisy_target = df_noisy_target.drop('Target', axis=1)\n",
    "    y_noisy_target = df_noisy_target['Target']\n",
    "    _, X_test_noisy_target, _, y_test_noisy_target = train_test_split(X_noisy_target, y_noisy_target, test_size=0.2, random_state=42)\n",
    "    predictions = model.predict(X_test_noisy_target)\n",
    "    mse = mean_squared_error(y_test_noisy_target, predictions)\n",
    "    print(\"MSE on Noisy Target Data:\", mse)\n",
    "    assert mse < 5 # тут что тест провален \n",
    "\n",
    "ipytest.run('-v')\n"
   ],
   "metadata": {
    "collapsed": false,
    "ExecuteTime": {
     "end_time": "2024-05-07T13:29:12.241975Z",
     "start_time": "2024-05-07T13:29:12.092049Z"
    }
   },
   "id": "9920589033d1e98f"
  },
  {
   "cell_type": "code",
   "execution_count": 8,
   "outputs": [],
   "source": [],
   "metadata": {
    "collapsed": false,
    "ExecuteTime": {
     "end_time": "2024-05-07T13:23:29.228028Z",
     "start_time": "2024-05-07T13:23:29.159455Z"
    }
   },
   "id": "fbc30c23e5580094"
  }
 ],
 "metadata": {
  "kernelspec": {
   "display_name": "Python 3",
   "language": "python",
   "name": "python3"
  },
  "language_info": {
   "codemirror_mode": {
    "name": "ipython",
    "version": 2
   },
   "file_extension": ".py",
   "mimetype": "text/x-python",
   "name": "python",
   "nbconvert_exporter": "python",
   "pygments_lexer": "ipython2",
   "version": "2.7.6"
  }
 },
 "nbformat": 4,
 "nbformat_minor": 5
}
